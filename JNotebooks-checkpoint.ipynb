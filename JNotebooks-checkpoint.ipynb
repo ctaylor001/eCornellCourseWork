{
 "cells": [
  {
   "cell_type": "markdown",
   "id": "billion-gambling",
   "metadata": {},
   "source": [
    "#About this Demo#\n",
    "In this demo, you will see how the closed form solution is used to find the optimal solution for linear regression.\n",
    "\n",
    "Getting Started\n",
    "Python Initialization\n",
    "Please run the following code to initialize your Python kernel. You should be running a version of Python 3.x."
   ]
  },
  {
   "cell_type": "code",
   "execution_count": 1,
   "id": "accomplished-principle",
   "metadata": {},
   "outputs": [
    {
     "name": "stdout",
     "output_type": "stream",
     "text": [
      "You're running python 3.7.10\n"
     ]
    }
   ],
   "source": [
    "import numpy as np\n",
    "from pylab import *\n",
    "import matplotlib.pyplot as plt\n",
    "%matplotlib inline \n",
    "print('You\\'re running python %s' % sys.version.split(' ')[0])"
   ]
  },
  {
   "cell_type": "code",
   "execution_count": 2,
   "id": "systematic-bahamas",
   "metadata": {},
   "outputs": [
    {
     "data": {
      "text/plain": [
       "[<matplotlib.lines.Line2D at 0x21dda235f48>]"
      ]
     },
     "execution_count": 2,
     "metadata": {},
     "output_type": "execute_result"
    },
    {
     "data": {
      "image/png": "[encoded data removed]",
      "text/plain": [
       "<Figure size 432x288 with 1 Axes>"
      ]
     },
     "metadata": {
      "needs_background": "light"
     },
     "output_type": "display_data"
    }
   ],
   "source": [
    "N = 40 # \n",
    "X = np.random.rand(N,1) # Sample N points randomly along X-axis\n",
    "X=np.hstack((X,np.ones((N,1))))  # Add a constant dimension\n",
    "w = np.array([3, 4]) # defining a linear function \n",
    "y = X@w + np.random.randn(N) * 0.1 # defining labels\n",
    "plt.plot(X[:, 0],y,\".\")"
   ]
  },
  {
   "cell_type": "markdown",
   "id": "loose-family",
   "metadata": {},
   "source": [
    "Learning Using Closed Form Solution\n",
    "Recall the closed form solution:\n",
    "𝐰=(𝐗𝑇𝐗)−1𝐗𝑇𝐲"
   ]
  },
  {
   "cell_type": "code",
   "execution_count": 3,
   "id": "modified-intellectual",
   "metadata": {},
   "outputs": [],
   "source": [
    "w_closed = np.linalg.inv(X.T@X)@X.T@y"
   ]
  },
  {
   "cell_type": "markdown",
   "id": "premium-compound",
   "metadata": {},
   "source": [
    "Visualize Closed Form Solution\n",
    "You can visualize the closed form solution with a line that is drawn over your data, using this code:"
   ]
  },
  {
   "cell_type": "code",
   "execution_count": 4,
   "id": "continuing-surname",
   "metadata": {},
   "outputs": [
    {
     "data": {
      "text/plain": [
       "[<matplotlib.lines.Line2D at 0x21ddd810d48>]"
      ]
     },
     "execution_count": 4,
     "metadata": {},
     "output_type": "execute_result"
    },
    {
     "data": {
      "image/png": "[encoded data removed]",
      "text/plain": [
       "<Figure size 432x288 with 1 Axes>"
      ]
     },
     "metadata": {
      "needs_background": "light"
     },
     "output_type": "display_data"
    }
   ],
   "source": [
    "plt.plot(X[:, 0],y,\".\") # plot the points\n",
    "z=np.array([[0,1],      # define two points with X-value 0 and 1 (and constant dimension)\n",
    "            [1,1]])\n",
    "plt.plot(z[:,0], z@w_closed, 'r') # draw line w_closed through these two points"
   ]
  },
  {
   "cell_type": "markdown",
   "id": "public-ontario",
   "metadata": {},
   "source": [
    "Pro-Tip: NumPy Linear Matrix Solver\n",
    "Computing matrix inverses can be numerically unstable and slow. Instead, one can use the Numpy linear matrix solver to solve the following linear system:\n",
    "(𝐗𝑇𝐗)𝐰=𝐗𝑇𝐲\n",
    " \n",
    "The solution is the same, but it is typically faster and more stable in case  (𝐗𝑇𝐗)  is not invertible."
   ]
  },
  {
   "cell_type": "code",
   "execution_count": 5,
   "id": "unlimited-photograph",
   "metadata": {},
   "outputs": [],
   "source": [
    "w_closed = np.linalg.solve(X.T@X,X.T@y)"
   ]
  },
  {
   "cell_type": "code",
   "execution_count": null,
   "id": "antique-skiing",
   "metadata": {},
   "outputs": [],
   "source": []
  },
  {
   "cell_type": "code",
   "execution_count": null,
   "id": "understood-injection",
   "metadata": {},
   "outputs": [],
   "source": []
  }
 ],
 "metadata": {
  "kernelspec": {
   "display_name": "Python 3",
   "language": "python",
   "name": "python3"
  },
  "language_info": {
   "codemirror_mode": {
    "name": "ipython",
    "version": 3
   },
   "file_extension": ".py",
   "mimetype": "text/x-python",
   "name": "python",
   "nbconvert_exporter": "python",
   "pygments_lexer": "ipython3",
   "version": "3.7.10"
  }
 },
 "nbformat": 4,
 "nbformat_minor": 5
}
